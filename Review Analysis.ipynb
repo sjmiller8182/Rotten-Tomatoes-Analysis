{
 "cells": [
  {
   "cell_type": "markdown",
   "metadata": {},
   "source": [
    "# Rotten Tomatoes Reviews\n",
    "by Stuart Miller  \n",
    "[Github](https://github.com/sjmiller8182)\n",
    "\n",
    "**Objective:** Predict 'freshness' of critic review  \n",
    "\n",
    "[Rotten Tomatoes](https://www.rottentomatoes.com/) rates movies as ['fresh' or 'rotten'](https://www.rottentomatoes.com/about#whatisthetomatometer). A movie is rated a 'fresh' when at least 60% of the critic reviews are positive and rotten when less than 60% of the critic reviews are positive. In some cases, the critics give the movie a numerical or graded rating such as '3/4' or 'A+'. However, in many cases, the critic does not give a rating or grade and the 'freshness' of the review must be inferred from the review. This will be the objective of this project: predicting the freshness of critic reviews.  \n",
    "\n",
    "Data was previously scraped with [TomatoPy](https://github.com/sjmiller8182/tomatopy). See Data Collection notebook for details."
   ]
  },
  {
   "cell_type": "code",
   "execution_count": 36,
   "metadata": {},
   "outputs": [],
   "source": [
    "import pandas as pd\n",
    "import numpy as np\n",
    "import codecs"
   ]
  },
  {
   "cell_type": "markdown",
   "metadata": {},
   "source": [
    "Load data from file. Open and ignore encoding errors."
   ]
  },
  {
   "cell_type": "code",
   "execution_count": 31,
   "metadata": {},
   "outputs": [],
   "source": [
    "data_trans = [[],[],[],[],[],[],[],[]]\n",
    "with codecs.open('reviews.tsv', \"r\",encoding='utf-8', errors='ignore')  as fdata:\n",
    "    for line in fdata:\n",
    "        data = line.strip().split('\\t')\n",
    "        for i in range(len(data)):\n",
    "            data_trans[i].append(data[i])"
   ]
  },
  {
   "cell_type": "markdown",
   "metadata": {},
   "source": [
    "Load data into DataFrame for analysis."
   ]
  },
  {
   "cell_type": "code",
   "execution_count": 32,
   "metadata": {},
   "outputs": [],
   "source": [
    "data = pd.DataFrame()\n",
    "keys = ['id', 'reviews', 'rating', 'fresh', 'critic',\n",
    "        'top_critic', 'publisher', 'date']\n",
    "\n",
    "for i in range(len(data_trans)):\n",
    "    data[keys[i]] = data_trans[i]"
   ]
  },
  {
   "cell_type": "markdown",
   "metadata": {},
   "source": [
    "## Data Frame Structure\n",
    "The table contained 7 columns of data and a column of forigen keys. Keys match review data to movie info, which was also scraped.\n",
    "- id: table forigen key\n",
    "- reviews: text of critic reviews\n",
    "- rating: rating\n",
    "- fresh: freshness of review - fresh or rotten\n",
    "- critic: critic name\n",
    "- top_critic: if critic is considered a 'top critic' 1 or 0\n",
    "- publisher: publisher or review\n",
    "- date: date of review\n",
    "\n",
    "Of the 54,432 rows, there are 48,869 reviews and 40,915 ratings. There are no null fresh rows."
   ]
  },
  {
   "cell_type": "code",
   "execution_count": 33,
   "metadata": {},
   "outputs": [
    {
     "data": {
      "text/html": [
       "<div>\n",
       "<style scoped>\n",
       "    .dataframe tbody tr th:only-of-type {\n",
       "        vertical-align: middle;\n",
       "    }\n",
       "\n",
       "    .dataframe tbody tr th {\n",
       "        vertical-align: top;\n",
       "    }\n",
       "\n",
       "    .dataframe thead th {\n",
       "        text-align: right;\n",
       "    }\n",
       "</style>\n",
       "<table border=\"1\" class=\"dataframe\">\n",
       "  <thead>\n",
       "    <tr style=\"text-align: right;\">\n",
       "      <th></th>\n",
       "      <th>id</th>\n",
       "      <th>reviews</th>\n",
       "      <th>rating</th>\n",
       "      <th>fresh</th>\n",
       "      <th>critic</th>\n",
       "      <th>top_critic</th>\n",
       "      <th>publisher</th>\n",
       "      <th>date</th>\n",
       "    </tr>\n",
       "  </thead>\n",
       "  <tbody>\n",
       "    <tr>\n",
       "      <th>0</th>\n",
       "      <td>3</td>\n",
       "      <td>A distinctly gallows take on contemporary fina...</td>\n",
       "      <td>3/5</td>\n",
       "      <td>fresh</td>\n",
       "      <td>PJ Nabarro</td>\n",
       "      <td>0</td>\n",
       "      <td>Patrick Nabarro</td>\n",
       "      <td>November 10, 2018</td>\n",
       "    </tr>\n",
       "    <tr>\n",
       "      <th>1</th>\n",
       "      <td>3</td>\n",
       "      <td>It's an allegory in search of a meaning that n...</td>\n",
       "      <td></td>\n",
       "      <td>rotten</td>\n",
       "      <td>Annalee Newitz</td>\n",
       "      <td>0</td>\n",
       "      <td>io9.com</td>\n",
       "      <td>May 23, 2018</td>\n",
       "    </tr>\n",
       "    <tr>\n",
       "      <th>2</th>\n",
       "      <td>3</td>\n",
       "      <td>... life lived in a bubble in financial dealin...</td>\n",
       "      <td></td>\n",
       "      <td>fresh</td>\n",
       "      <td>Sean Axmaker</td>\n",
       "      <td>0</td>\n",
       "      <td>Stream on Demand</td>\n",
       "      <td>January 4, 2018</td>\n",
       "    </tr>\n",
       "    <tr>\n",
       "      <th>3</th>\n",
       "      <td>3</td>\n",
       "      <td>\"Continuing along a line introduced in last ye...</td>\n",
       "      <td></td>\n",
       "      <td>fresh</td>\n",
       "      <td>Daniel Kasman</td>\n",
       "      <td>0</td>\n",
       "      <td>MUBI</td>\n",
       "      <td>November 16, 2017</td>\n",
       "    </tr>\n",
       "    <tr>\n",
       "      <th>4</th>\n",
       "      <td>3</td>\n",
       "      <td>... a perverse twist on neorealism...</td>\n",
       "      <td></td>\n",
       "      <td>fresh</td>\n",
       "      <td></td>\n",
       "      <td>0</td>\n",
       "      <td>Cinema Scope</td>\n",
       "      <td>October 12, 2017</td>\n",
       "    </tr>\n",
       "  </tbody>\n",
       "</table>\n",
       "</div>"
      ],
      "text/plain": [
       "  id                                            reviews rating   fresh  \\\n",
       "0  3  A distinctly gallows take on contemporary fina...    3/5   fresh   \n",
       "1  3  It's an allegory in search of a meaning that n...         rotten   \n",
       "2  3  ... life lived in a bubble in financial dealin...          fresh   \n",
       "3  3  \"Continuing along a line introduced in last ye...          fresh   \n",
       "4  3             ... a perverse twist on neorealism...           fresh   \n",
       "\n",
       "           critic top_critic         publisher               date  \n",
       "0      PJ Nabarro          0   Patrick Nabarro  November 10, 2018  \n",
       "1  Annalee Newitz          0           io9.com       May 23, 2018  \n",
       "2    Sean Axmaker          0  Stream on Demand    January 4, 2018  \n",
       "3   Daniel Kasman          0              MUBI  November 16, 2017  \n",
       "4                          0      Cinema Scope   October 12, 2017  "
      ]
     },
     "execution_count": 33,
     "metadata": {},
     "output_type": "execute_result"
    }
   ],
   "source": [
    "data.head()"
   ]
  },
  {
   "cell_type": "code",
   "execution_count": 35,
   "metadata": {},
   "outputs": [],
   "source": [
    "data.replace(to_replace = '', value = pd.np.nan, inplace = True)"
   ]
  },
  {
   "cell_type": "code",
   "execution_count": 37,
   "metadata": {},
   "outputs": [
    {
     "name": "stdout",
     "output_type": "stream",
     "text": [
      "<class 'pandas.core.frame.DataFrame'>\n",
      "RangeIndex: 54432 entries, 0 to 54431\n",
      "Data columns (total 8 columns):\n",
      "id            54432 non-null object\n",
      "reviews       48869 non-null object\n",
      "rating        40915 non-null object\n",
      "fresh         54432 non-null object\n",
      "critic        51710 non-null object\n",
      "top_critic    54432 non-null object\n",
      "publisher     54123 non-null object\n",
      "date          54432 non-null object\n",
      "dtypes: object(8)\n",
      "memory usage: 3.3+ MB\n"
     ]
    }
   ],
   "source": [
    "data.info()"
   ]
  },
  {
   "cell_type": "code",
   "execution_count": null,
   "metadata": {},
   "outputs": [],
   "source": []
  }
 ],
 "metadata": {
  "kernelspec": {
   "display_name": "Python 3",
   "language": "python",
   "name": "python3"
  },
  "language_info": {
   "codemirror_mode": {
    "name": "ipython",
    "version": 3
   },
   "file_extension": ".py",
   "mimetype": "text/x-python",
   "name": "python",
   "nbconvert_exporter": "python",
   "pygments_lexer": "ipython3",
   "version": "3.6.5"
  }
 },
 "nbformat": 4,
 "nbformat_minor": 2
}
