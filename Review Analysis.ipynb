{
 "cells": [
  {
   "cell_type": "markdown",
   "metadata": {},
   "source": [
    "# Rotten Tomatoes Reviews\n",
    "by Stuart Miller  \n",
    "[Github](https://github.com/sjmiller8182)\n",
    "\n",
    "**Objective:** Predict 'freshness' of critic review  \n",
    "\n",
    "[Rotten Tomatoes](https://www.rottentomatoes.com/) rates movies as ['fresh' or 'rotten'](https://www.rottentomatoes.com/about#whatisthetomatometer). A movie is rated a 'fresh' when at least 60% of the critic reviews are positive and rotten when less than 60% of the critic reviews are positive. In some cases, the critics give the movie a numerical or graded rating such as '3/4' or 'A+'. However, in many cases, the critic does not give a rating or grade and the 'freshness' of the review must be inferred from the review. This will be the objective of this project: predicting the freshness of critic reviews.  \n",
    "\n",
    "Data was previously scraped with [TomatoPy](https://github.com/sjmiller8182/tomatopy). See Data Collection notebook for details."
   ]
  },
  {
   "cell_type": "code",
   "execution_count": 636,
   "metadata": {},
   "outputs": [],
   "source": [
    "import pandas as pd\n",
    "import numpy as np\n",
    "import scipy as sp\n",
    "import matplotlib.pyplot as plt\n",
    "import seaborn as sns\n",
    "import codecs\n",
    "%matplotlib inline"
   ]
  },
  {
   "cell_type": "markdown",
   "metadata": {},
   "source": [
    "Load data from file. Open and ignore encoding errors."
   ]
  },
  {
   "cell_type": "code",
   "execution_count": 31,
   "metadata": {},
   "outputs": [],
   "source": [
    "data_trans = [[],[],[],[],[],[],[],[]]\n",
    "with codecs.open('reviews.tsv', \"r\",encoding='utf-8', errors='ignore')  as fdata:\n",
    "    for line in fdata:\n",
    "        data = line.strip().split('\\t')\n",
    "        for i in range(len(data)):\n",
    "            data_trans[i].append(data[i])"
   ]
  },
  {
   "cell_type": "markdown",
   "metadata": {},
   "source": [
    "Load data into DataFrame for analysis."
   ]
  },
  {
   "cell_type": "code",
   "execution_count": 32,
   "metadata": {},
   "outputs": [],
   "source": [
    "data = pd.DataFrame()\n",
    "keys = ['id', 'reviews', 'rating', 'fresh', 'critic',\n",
    "        'top_critic', 'publisher', 'date']\n",
    "\n",
    "for i in range(len(data_trans)):\n",
    "    data[keys[i]] = data_trans[i]"
   ]
  },
  {
   "cell_type": "markdown",
   "metadata": {},
   "source": [
    "## Data Frame Structure\n",
    "The table contained 7 columns of data and a column of foreign keys. Keys match review data to movie info, which was also scraped.\n",
    "- id: table foreign key\n",
    "- reviews: text of critic reviews\n",
    "- rating: rating\n",
    "- fresh: freshness of review - fresh or rotten\n",
    "- critic: critic name\n",
    "- top_critic: if critic is considered a 'top critic' 1 or 0\n",
    "- publisher: publisher or review\n",
    "- date: date of review\n",
    "\n",
    "Of the 54,432 rows, there are 48,869 reviews and 40,915 ratings. There are 35,379 rows where rating and review is not null. There are no null fresh rows."
   ]
  },
  {
   "cell_type": "code",
   "execution_count": 33,
   "metadata": {},
   "outputs": [
    {
     "data": {
      "text/html": [
       "<div>\n",
       "<style scoped>\n",
       "    .dataframe tbody tr th:only-of-type {\n",
       "        vertical-align: middle;\n",
       "    }\n",
       "\n",
       "    .dataframe tbody tr th {\n",
       "        vertical-align: top;\n",
       "    }\n",
       "\n",
       "    .dataframe thead th {\n",
       "        text-align: right;\n",
       "    }\n",
       "</style>\n",
       "<table border=\"1\" class=\"dataframe\">\n",
       "  <thead>\n",
       "    <tr style=\"text-align: right;\">\n",
       "      <th></th>\n",
       "      <th>id</th>\n",
       "      <th>reviews</th>\n",
       "      <th>rating</th>\n",
       "      <th>fresh</th>\n",
       "      <th>critic</th>\n",
       "      <th>top_critic</th>\n",
       "      <th>publisher</th>\n",
       "      <th>date</th>\n",
       "    </tr>\n",
       "  </thead>\n",
       "  <tbody>\n",
       "    <tr>\n",
       "      <th>0</th>\n",
       "      <td>3</td>\n",
       "      <td>A distinctly gallows take on contemporary fina...</td>\n",
       "      <td>3/5</td>\n",
       "      <td>fresh</td>\n",
       "      <td>PJ Nabarro</td>\n",
       "      <td>0</td>\n",
       "      <td>Patrick Nabarro</td>\n",
       "      <td>November 10, 2018</td>\n",
       "    </tr>\n",
       "    <tr>\n",
       "      <th>1</th>\n",
       "      <td>3</td>\n",
       "      <td>It's an allegory in search of a meaning that n...</td>\n",
       "      <td></td>\n",
       "      <td>rotten</td>\n",
       "      <td>Annalee Newitz</td>\n",
       "      <td>0</td>\n",
       "      <td>io9.com</td>\n",
       "      <td>May 23, 2018</td>\n",
       "    </tr>\n",
       "    <tr>\n",
       "      <th>2</th>\n",
       "      <td>3</td>\n",
       "      <td>... life lived in a bubble in financial dealin...</td>\n",
       "      <td></td>\n",
       "      <td>fresh</td>\n",
       "      <td>Sean Axmaker</td>\n",
       "      <td>0</td>\n",
       "      <td>Stream on Demand</td>\n",
       "      <td>January 4, 2018</td>\n",
       "    </tr>\n",
       "    <tr>\n",
       "      <th>3</th>\n",
       "      <td>3</td>\n",
       "      <td>\"Continuing along a line introduced in last ye...</td>\n",
       "      <td></td>\n",
       "      <td>fresh</td>\n",
       "      <td>Daniel Kasman</td>\n",
       "      <td>0</td>\n",
       "      <td>MUBI</td>\n",
       "      <td>November 16, 2017</td>\n",
       "    </tr>\n",
       "    <tr>\n",
       "      <th>4</th>\n",
       "      <td>3</td>\n",
       "      <td>... a perverse twist on neorealism...</td>\n",
       "      <td></td>\n",
       "      <td>fresh</td>\n",
       "      <td></td>\n",
       "      <td>0</td>\n",
       "      <td>Cinema Scope</td>\n",
       "      <td>October 12, 2017</td>\n",
       "    </tr>\n",
       "  </tbody>\n",
       "</table>\n",
       "</div>"
      ],
      "text/plain": [
       "  id                                            reviews rating   fresh  \\\n",
       "0  3  A distinctly gallows take on contemporary fina...    3/5   fresh   \n",
       "1  3  It's an allegory in search of a meaning that n...         rotten   \n",
       "2  3  ... life lived in a bubble in financial dealin...          fresh   \n",
       "3  3  \"Continuing along a line introduced in last ye...          fresh   \n",
       "4  3             ... a perverse twist on neorealism...           fresh   \n",
       "\n",
       "           critic top_critic         publisher               date  \n",
       "0      PJ Nabarro          0   Patrick Nabarro  November 10, 2018  \n",
       "1  Annalee Newitz          0           io9.com       May 23, 2018  \n",
       "2    Sean Axmaker          0  Stream on Demand    January 4, 2018  \n",
       "3   Daniel Kasman          0              MUBI  November 16, 2017  \n",
       "4                          0      Cinema Scope   October 12, 2017  "
      ]
     },
     "execution_count": 33,
     "metadata": {},
     "output_type": "execute_result"
    }
   ],
   "source": [
    "data.head()"
   ]
  },
  {
   "cell_type": "code",
   "execution_count": 35,
   "metadata": {},
   "outputs": [],
   "source": [
    "data.replace(to_replace = '', value = pd.np.nan, inplace = True)"
   ]
  },
  {
   "cell_type": "code",
   "execution_count": 37,
   "metadata": {},
   "outputs": [
    {
     "name": "stdout",
     "output_type": "stream",
     "text": [
      "<class 'pandas.core.frame.DataFrame'>\n",
      "RangeIndex: 54432 entries, 0 to 54431\n",
      "Data columns (total 8 columns):\n",
      "id            54432 non-null object\n",
      "reviews       48869 non-null object\n",
      "rating        40915 non-null object\n",
      "fresh         54432 non-null object\n",
      "critic        51710 non-null object\n",
      "top_critic    54432 non-null object\n",
      "publisher     54123 non-null object\n",
      "date          54432 non-null object\n",
      "dtypes: object(8)\n",
      "memory usage: 3.3+ MB\n"
     ]
    }
   ],
   "source": [
    "data.info()"
   ]
  },
  {
   "cell_type": "code",
   "execution_count": 40,
   "metadata": {},
   "outputs": [
    {
     "data": {
      "text/plain": [
       "(35379, 8)"
      ]
     },
     "execution_count": 40,
     "metadata": {},
     "output_type": "execute_result"
    }
   ],
   "source": [
    "data[(data.reviews.notnull() & data.rating.notnull())].shape"
   ]
  },
  {
   "cell_type": "markdown",
   "metadata": {},
   "source": [
    "## Assessment and Exploration\n",
    "\n",
    "### Reviews\n",
    "The reviews will need some preprocessing before using in classification models. The initial preprocessing will be done here. This is just a matter of converting all the words to lower case and removing all the punctuation."
   ]
  },
  {
   "cell_type": "code",
   "execution_count": 274,
   "metadata": {},
   "outputs": [],
   "source": [
    "def preprocess_rev(row):\n",
    "    if 'str' in str(type(row['reviews'])):\n",
    "        # some common symbols\n",
    "        punc = ['~','!','`',',',':',';','\"',\"'\",'.','/',\n",
    "                '\\\\','[',']','(',')','&','%','-','_','+','=','?']\n",
    "        rev = row['reviews'].lower().strip()\n",
    "        for p in punc:\n",
    "            rev = rev.replace(p,'')\n",
    "        return rev\n",
    "    else:\n",
    "        return np.nan\n",
    "\n",
    "data['review_pp'] = data.apply(preprocess_rev, axis = 1)"
   ]
  },
  {
   "cell_type": "code",
   "execution_count": 275,
   "metadata": {},
   "outputs": [
    {
     "name": "stdout",
     "output_type": "stream",
     "text": [
      "Sample original review:\n",
      "\"Cosmopolis\"\" is a hypnotic examination of our modern anxieties about the dehumanization brought on by wealth, power, and technology.\"\n",
      "\n",
      "Sample modified review:\n",
      "cosmopolis is a hypnotic examination of our modern anxieties about the dehumanization brought on by wealth power and technology\n"
     ]
    }
   ],
   "source": [
    "print('Sample original review:')\n",
    "print(list(data['reviews'])[10])\n",
    "\n",
    "print('\\nSample modified review:')\n",
    "print(list(data['review_pp'])[10])"
   ]
  },
  {
   "cell_type": "markdown",
   "metadata": {},
   "source": [
    "### Ratings\n",
    "Ratings can be given as a number or as a grade. Since this is a classification task, the numerical values should be mapped to grades. Then the grades can be one-hot encoded is common for classification labeling.\n",
    "\n",
    "In addition to the mapping, some of these values need to be corrected. For instance, some of the catpured ratings are non-grade letters like 'N' and some are numerical values but do not indicate scale."
   ]
  },
  {
   "cell_type": "code",
   "execution_count": 85,
   "metadata": {},
   "outputs": [
    {
     "data": {
      "text/plain": [
       "array(['0', '0.5/10', '0.5/4', '0.5/5', '0/10', '0/4', '0/5', '0/6', '1',\n",
       "       '1-5', '1.0', '1.0/4', '1.0/5', '1.5', '1.5/10', '1.5/4', '1.5/5',\n",
       "       '1.6/5', '1.7', '1.8', '1.9/5', '1/10', '1/2', '1/4', '1/5', '1/6',\n",
       "       '2', '2.0/4', '2.0/5', '2.1/2', '2.2', '2.2/5', '2.3/10', '2.3/4',\n",
       "       '2.3/5', '2.4/5', '2.5', '2.5/10', '2.5/4', '2.5/5', '2.6/5',\n",
       "       '2.6/6', '2.7', '2.7/5', '2/10', '2/2', '2/4', '2/5', '2/6', '3',\n",
       "       '3 1/2', '3.0', '3.0/10', '3.0/4', '3.0/5', '3.1', '3.1/5', '3.2',\n",
       "       '3.3', '3.3/5', '3.4', '3.5', '3.5/10', '3.5/4', '3.5/5', '3.6/5',\n",
       "       '3.7', '3.7/5', '3.8/10', '3.8/5', '3/10', '3/2', '3/4', '3/5',\n",
       "       '3/6', '4', '4.0', '4.0/10', '4.0/4', '4.0/5', '4.1', '4.1/10',\n",
       "       '4.2', '4.2/10', '4.2/5', '4.3/10', '4.3/5', '4.4/5', '4.5',\n",
       "       '4.5/10', '4.5/5', '4.7', '4.8', '4.9', '4.9/10', '4/10', '4/4',\n",
       "       '4/5', '4/6', '5', '5.0/10', '5.0/5', '5.2', '5.5/10', '5.5/5',\n",
       "       '5.8', '5.8/10', '5.9', '5.9/10', '5/10', '5/4', '5/5', '5/6', '6',\n",
       "       '6.0/10', '6.2', '6.2/10', '6.3/10', '6.5/10', '6.7', '6.8/10',\n",
       "       '6.9/10', '6/10', '6/8', '7', '7.0/10', '7.1', '7.1/10', '7.2/10',\n",
       "       '7.3', '7.3/10', '7.4', '7.4/10', '7.5/10', '7.6/10', '7.7',\n",
       "       '7.7/10', '7.8', '7.8/10', '7.9', '7.9/10', '7/10', '8', '8.0/10',\n",
       "       '8.1/10', '8.2', '8.2/10', '8.3/10', '8.4', '8.4/10', '8.5',\n",
       "       '8.5/10', '8.6/10', '8.7/10', '8.8/10', '8.9', '8.9/10', '8/10',\n",
       "       '9', '9.0', '9.0/10', '9.2', '9.2/10', '9.5/10', '9.6/10', '9.7',\n",
       "       '9.8', '9/10', 'A', 'A+', 'A-', 'B', 'B+', 'B-', 'C', 'C+', 'C-',\n",
       "       'D', 'D+', 'D-', 'F', 'F+', 'F-', 'N', 'R', 'T'], dtype='<U6')"
      ]
     },
     "execution_count": 85,
     "metadata": {},
     "output_type": "execute_result"
    }
   ],
   "source": [
    "np.unique(list(data[data.rating.notnull()].rating))"
   ]
  },
  {
   "cell_type": "code",
   "execution_count": 161,
   "metadata": {},
   "outputs": [],
   "source": [
    "grades = ['A+', 'A', 'A-', 'B+', 'B', 'B-', 'C+', 'C', 'C-',\n",
    "       'D+', 'D', 'D-', 'F+', 'F', 'F-']\n",
    "rotten_count = list()\n",
    "fresh_count = list()\n",
    "\n",
    "for grade in grades:\n",
    "    total = (data[data['rating'] == grade]['fresh'] == 'fresh').count()\n",
    "    fresh = (data[data['rating'] == grade]['fresh'] == 'fresh').sum()\n",
    "    rotten = total-fresh\n",
    "    \n",
    "    rotten_count.append(rotten)\n",
    "    fresh_count.append(fresh)"
   ]
  },
  {
   "cell_type": "code",
   "execution_count": 180,
   "metadata": {},
   "outputs": [
    {
     "data": {
      "image/png": "[encoded data removed]",
      "text/plain": [
       "<Figure size 720x360 with 1 Axes>"
      ]
     },
     "metadata": {},
     "output_type": "display_data"
    }
   ],
   "source": [
    "x = [_ for _ in range(len(grades))]\n",
    "\n",
    "fig, ax = plt.subplots(figsize = (10,5))\n",
    "ax.plot(x,fresh_count, label = 'fresh');\n",
    "ax.plot(x,rotten_count, label = 'rotten');\n",
    "ax.set_title(\"Fresh and Rotten Counts over Grades\");\n",
    "ax.set_ylabel('Counts')\n",
    "ax.set_xlabel('Grades')\n",
    "ax.set_xticks(x)\n",
    "ax.set_xticklabels(grades)\n",
    "ax.legend();"
   ]
  },
  {
   "cell_type": "markdown",
   "metadata": {},
   "source": [
    "### Ratings Mapping\n",
    "Based on the graph of fresh and rotten counts over the grades given by critics, the cross over point appears to be between B- and C-. I will map B- to 0.6, which is the minimum positive rating. The other numerical ratings will be mapped to grades as shown below.\n",
    "\n",
    "| Grade | Numerical | Grade | Numerical | Grade | Numerical | Grade | Numerical | Grade | Numerical |\n",
    "|-------|-----------|-------|-----------|-------|-----------|-------|-----------|-------|-----------|\n",
    "| A+    | 1         | B+    | 0.76      | C+    | 0.52      | D+    | 0.28      | F+    | 0.04      |\n",
    "| A     | 0.92      | B     | 0.68      | C     | 0.44      | D     | 0.2       | F     | 0         |\n",
    "| A-    | 0.84      | B-    | 0.6       | C-    | 0.36      | D-    | 0.12      | F-    | 0         |"
   ]
  },
  {
   "cell_type": "code",
   "execution_count": 221,
   "metadata": {},
   "outputs": [],
   "source": [
    "def map_numbers_to_grades(num):\n",
    "    if num == np.nan:\n",
    "        return np.nan\n",
    "    else:\n",
    "        if num == 1:\n",
    "            return 'A+'\n",
    "        elif num < 1 and num >= 0.92:\n",
    "            return 'A'\n",
    "        elif num < 0.92 and num >= 0.84:\n",
    "            return 'A-'\n",
    "        elif num < 0.84 and num >= 0.76:\n",
    "            return 'B+'\n",
    "        elif num < 0.76 and num >= 0.68:\n",
    "            return 'B'\n",
    "        elif num < 0.68 and num >= 0.6:\n",
    "            return 'B-'\n",
    "        elif num < 0.6 and num >= 0.52:\n",
    "            return 'C+'\n",
    "        elif num < 0.52 and num >= 0.44:\n",
    "            return 'C'\n",
    "        elif num < 0.44 and num >= 0.36:\n",
    "            return 'C-'\n",
    "        elif num < 0.36 and num >= 0.28:\n",
    "            return 'D+'\n",
    "        elif num < 0.28 and num >= 0.2:\n",
    "            return 'D'\n",
    "        elif num < 0.2 and num >= 0.12:\n",
    "            return 'D-'\n",
    "        elif num < 0.12 and num >= 0.04:\n",
    "            return 'F+'\n",
    "        else:\n",
    "            return 'F'\n",
    "\n",
    "def clean_ratings(row):\n",
    "    if row['rating'] in grades:\n",
    "        return row['rating']\n",
    "    else:\n",
    "        if row['rating'] in ['T','R','N']:\n",
    "            return np.nan\n",
    "        elif '-' in str(row['rating']):\n",
    "            a = row['rating'].split('-')[0]\n",
    "            b = row['rating'].split('-')[1]\n",
    "            return map_numbers_to_grades(float(a)/float(b))\n",
    "        elif ' ' in str(row['rating']):\n",
    "            a = row['rating'].split(' ')[0]\n",
    "            b = row['rating'].split(' ')[1]\n",
    "            if '/' in b:\n",
    "                b = float(b.split('/')[0])/float(b.split('/')[0])\n",
    "            a = (float(a) + b)/5\n",
    "            return map_numbers_to_grades(a)\n",
    "        elif '/' in str(row['rating']):\n",
    "            a = row['rating'].split('/')[0]\n",
    "            b = row['rating'].split('/')[1]\n",
    "            return map_numbers_to_grades(float(a)/float(b))\n",
    "        elif float(row['rating']) > 5:\n",
    "            return map_numbers_to_grades(float(row['rating'])/10.0)\n",
    "        elif float(row['rating']) < 5 and float(row['rating']) < 1:\n",
    "            if row['fresh'] == 'fresh':\n",
    "                return map_numbers_to_grades(float(row['rating'])/(float(row['rating'])+1))\n",
    "            else:\n",
    "                return map_numbers_to_grades(float(row['rating'])/(float(row['rating'])+3))\n",
    "        else:\n",
    "            return np.nan"
   ]
  },
  {
   "cell_type": "code",
   "execution_count": 222,
   "metadata": {},
   "outputs": [],
   "source": [
    "data['grade'] = data.apply(clean_ratings, axis = 1)"
   ]
  },
  {
   "cell_type": "code",
   "execution_count": 404,
   "metadata": {},
   "outputs": [
    {
     "data": {
      "image/png": "[encoded data removed]",
      "text/plain": [
       "<Figure size 720x360 with 1 Axes>"
      ]
     },
     "metadata": {},
     "output_type": "display_data"
    }
   ],
   "source": [
    "grades = ['A+', 'A', 'A-', 'B+', 'B', 'B-', 'C+', 'C', 'C-',\n",
    "       'D+', 'D', 'D-', 'F+', 'F', 'F-']\n",
    "rotten_count = list()\n",
    "fresh_count = list()\n",
    "\n",
    "for grade in grades:\n",
    "    total = (data[data['grade'] == grade]['fresh'] == 'fresh').count()\n",
    "    fresh = (data[data['grade'] == grade]['fresh'] == 'fresh').sum()\n",
    "    rotten = total-fresh\n",
    "    \n",
    "    rotten_count.append(rotten)\n",
    "    fresh_count.append(fresh)\n",
    "    \n",
    "x = [_ for _ in range(len(grades))]\n",
    "\n",
    "fig, ax = plt.subplots(figsize = (10,5))\n",
    "ax.plot(x,fresh_count, label = 'fresh');\n",
    "ax.plot(x,rotten_count, label = 'rotten');\n",
    "ax.set_title(\"Fresh and Rotten Counts over Grades (After Mapping)\");\n",
    "ax.set_ylabel('Counts')\n",
    "ax.set_xlabel('Grades')\n",
    "ax.set_xticks(x)\n",
    "ax.set_xticklabels(grades)\n",
    "ax.legend();"
   ]
  },
  {
   "cell_type": "markdown",
   "metadata": {},
   "source": [
    "After mapping the ratings to grades, it looks like there is some noise near the cross over point. I will leave it like this. Some noise near the cross over area is to be expected. It is possilbe that Rotten Tomatoes has misclassified some of these ratings.\n",
    "\n",
    "For modeling, it could be possible to treat the B- and C ratings as neutral and train on the more consistent grades.\n",
    "\n",
    "### Target Class Reduction\n",
    "Since the model is really trying to learn the difference between positive and negative reviews (fresh and rotten), it makes sense to compress the graded representation to 2 classes. Becuase of the noise in the B-, C+ range, I will ignore these and consider them neutral reviews."
   ]
  },
  {
   "cell_type": "code",
   "execution_count": 459,
   "metadata": {},
   "outputs": [],
   "source": [
    "def compress_classes(row):\n",
    "    if row['grade'] in ['A+', 'A', 'A-', 'B+', 'B']:\n",
    "        return 'pos'\n",
    "    elif row['grade'] in ['C', 'C-','D+', 'D', 'D-', 'F+', 'F', 'F-']:\n",
    "        return 'neg'\n",
    "    else:\n",
    "        return row['grade']\n",
    "    \n",
    "data['pos_neg'] = data.apply(compress_classes, axis = 1)"
   ]
  },
  {
   "cell_type": "markdown",
   "metadata": {},
   "source": [
    "### General Exploration\n",
    "Common words\n",
    "- What are the most common words in the total set?\n",
    "- Is there a difference between the most common words in the positive set and negative set?"
   ]
  },
  {
   "cell_type": "code",
   "execution_count": 770,
   "metadata": {},
   "outputs": [
    {
     "name": "stdout",
     "output_type": "stream",
     "text": [
      "There are 42115 unique words in the total set.\n"
     ]
    }
   ],
   "source": [
    "from collections import Counter\n",
    "\n",
    "all_words = Counter()\n",
    "rev_lengths = list()\n",
    "for rev in list(data.review_pp):\n",
    "    if 'float' not in str(type(rev)):\n",
    "        n_rev = rev.split(' ')\n",
    "        rev_lengths.append(len(n_rev))\n",
    "        all_words.update(n_rev)\n",
    "total = len(list(all_words.most_common()))\n",
    "print('There are {} unique words in the total set.'.format(total))"
   ]
  },
  {
   "cell_type": "code",
   "execution_count": 771,
   "metadata": {},
   "outputs": [
    {
     "data": {
      "image/png": "[encoded data removed]",
      "text/plain": [
       "<Figure size 1080x504 with 2 Axes>"
      ]
     },
     "metadata": {},
     "output_type": "display_data"
    }
   ],
   "source": [
    "freqs = np.ndarray(shape=(total,), dtype=int)\n",
    "i = 0\n",
    "for w in all_words.most_common(total):\n",
    "    freqs[i] = w[1]\n",
    "    i+=1\n",
    "fig, ax = plt.subplots(ncols = 2, figsize = (15, 7));\n",
    "ax[0].plot(np.log10(freqs));\n",
    "ax[0].set_title('word occurance decay rate'.title())\n",
    "ax[0].set_ylabel('rate of occurance (log10)'.title());\n",
    "ax[0].set_xlabel('word index (by most common)'.title());\n",
    "ax[1].hist(np.log10(freqs));\n",
    "ax[1].set_title('distribution of Occurance'.title())\n",
    "ax[1].set_ylabel('counts'.title());\n",
    "ax[1].set_xlabel('Occurance rate (log10)'.title());\n",
    "fig.suptitle('rate of word occurance'.title());"
   ]
  },
  {
   "cell_type": "markdown",
   "metadata": {},
   "source": [
    "From the two plots above, **most of the words in the set are fairly uncommon** with nearly 75% being counted less than 10 times in the set."
   ]
  },
  {
   "cell_type": "code",
   "execution_count": 722,
   "metadata": {},
   "outputs": [
    {
     "data": {
      "text/plain": [
       "[('her', 995),\n",
       " ('first', 994),\n",
       " ('action', 978),\n",
       " ('really', 975),\n",
       " ('drama', 966),\n",
       " ('performances', 965),\n",
       " ('made', 960),\n",
       " ('get', 956),\n",
       " ('would', 953),\n",
       " ('something', 951),\n",
       " ('isnt', 942),\n",
       " ('do', 934),\n",
       " ('better', 924),\n",
       " ('full', 922),\n",
       " ('should', 902),\n",
       " ('see', 900),\n",
       " ('many', 888),\n",
       " ('two', 880),\n",
       " ('through', 879),\n",
       " ('them', 870)]"
      ]
     },
     "execution_count": 722,
     "metadata": {},
     "output_type": "execute_result"
    }
   ],
   "source": [
    "words.most_common(120)[100:]"
   ]
  },
  {
   "cell_type": "markdown",
   "metadata": {},
   "source": [
    "Most of the words in the set are not interesting unit about the 100th most common where words like performances and drama start showing up."
   ]
  },
  {
   "cell_type": "code",
   "execution_count": 757,
   "metadata": {},
   "outputs": [],
   "source": [
    "revs = dict()\n",
    "revs['f'] = list(data[data['fresh']=='fresh'].review_pp)\n",
    "revs['r'] = list(data[data['fresh']=='rotten'].review_pp)\n",
    "\n",
    "words = {'f':Counter(), 'r':Counter()}\n",
    "rev_lens = {'f':list(), 'r':list()}\n",
    "for fresh in ['f', 'r']:\n",
    "    for rev in revs[fresh]:\n",
    "        if 'float' not in str(type(rev)):\n",
    "            n_rev = rev.split(' ')\n",
    "            rev_lens[fresh].append(len(n_rev))\n",
    "            words[fresh].update(n_rev)"
   ]
  },
  {
   "cell_type": "code",
   "execution_count": 767,
   "metadata": {},
   "outputs": [
    {
     "name": "stdout",
     "output_type": "stream",
     "text": [
      "Compare the most common 500 words from each set. Which words are not common between the two sets.\n",
      "\n",
      "- Words in rotten set, not in fresh set -\n",
      "dull instead jokes fails worst mess idea premise trying predictable either boring becomes unfortunately lacks melodrama left neither care lack didnt tries nor video problem else wants ideas wrong theyre im flat book tv obvious bland nearly line falls gags disappointing completely screenplay given reason result effort worse needs awful tedious someone particularly hours ends dumb having forgettable youve until unfunny leaves day stupid starts next maybe stuff act franchise put let case interest tell save arent getting attempt whats start children dead elements serious entirely parts already country seriously whether behind white themselves likely cheap women wonder except quickly road scary failure potential thought home lazy shallow beyond decent tired found \n",
      "\n",
      "There are 112 unique to rotten in the top 500\n",
      "\n",
      "- Words in fresh set, not in rotten set -\n",
      "classic enjoyable perfect beautiful powerful smart power sweet moving cinema charming engaging delivers summer adventure brilliant manages solid since bond rare beautifully surprisingly deeply enjoy terrific portrait fascinating keeps hilarious shows art small wonderful satisfying western david ride masterpiece excellent thanks beauty intelligent simple past plenty effective actor modern deep filmmaker touching fresh epic teen acted lives witty call documentary journey directed impressive edge complex seeing proves rich period visually exciting age face days top animation stunning nice against easily different social attention remains spirit nature name brings adults knows study night occasionally lead wit artist debut disney soul eyes superb emotionally form pure culture energy perfectly oscar career novel eastwood within \n",
      "\n",
      "There are 112 unique to fresh in the top 500\n"
     ]
    }
   ],
   "source": [
    "lr_top = list()\n",
    "lf_top = list()\n",
    "runique = list()\n",
    "funique = list()\n",
    "num_words = 500\n",
    "\n",
    "r_top = words['r'].most_common(num_words)\n",
    "f_top = words['f'].most_common(num_words)\n",
    "for i in range(num_words):\n",
    "    lr_top.append(r_top[i][0])\n",
    "    lf_top.append(f_top[i][0])\n",
    "\n",
    "    \n",
    "print('Compare the most common ' + str(num_words) + \\\n",
    "      ' words from each set. Which words are not common between the two sets.\\n')\n",
    "print('- Words in rotten set, not in fresh set -')\n",
    "i = 0\n",
    "for w in lr_top:\n",
    "    if w not in lf_top:\n",
    "        i += 1\n",
    "        print(w, end = ' ')\n",
    "print('\\n\\nThere are ' + str(i) + ' unique to rotten in the top ' + str(num_words))\n",
    "\n",
    "print()\n",
    "print('- Words in fresh set, not in rotten set -')\n",
    "i = 0\n",
    "for w in lf_top:\n",
    "    if w not in lr_top:\n",
    "        i += 1\n",
    "        print(w, end = ' ')\n",
    "print('\\n\\nThere are ' + str(i) + ' unique to fresh in the top ' + str(num_words))"
   ]
  },
  {
   "cell_type": "markdown",
   "metadata": {},
   "source": [
    "Just from the top 200 most common words in each set, there are some words that seem to resonate with the freshness of the review sentiment: *bad*, *shallow*, and *dull* in rotten & *entertaining*, *fascinating*, and *satisfying* in fresh."
   ]
  },
  {
   "cell_type": "code",
   "execution_count": 773,
   "metadata": {},
   "outputs": [
    {
     "data": {
      "image/png": "[encoded data removed]",
      "text/plain": [
       "<Figure size 1080x504 with 2 Axes>"
      ]
     },
     "metadata": {},
     "output_type": "display_data"
    }
   ],
   "source": [
    "fig, ax = plt.subplots(ncols = 2, figsize=(15,7))\n",
    "avg_all = np.mean(rev_lengths)\n",
    "avg_r = np.mean(rev_lens['r'])\n",
    "avg_f = np.mean(rev_lens['f'])\n",
    "ax[0].hist(rev_lengths, label = 'all reviews');\n",
    "ax[0].plot([avg_all, avg_all], [0,10000], label = 'mean')\n",
    "ax[0].legend()\n",
    "ax[0].set_title('Lengths of All Reviews');\n",
    "ax[0].set_xlabel('Length (Words)');\n",
    "ax[0].set_ylabel('Count');\n",
    "ax[1].hist(rev_lens['f'], label = 'fresh');\n",
    "ax[1].hist(rev_lens['r'], label = 'rotten');\n",
    "ax[1].plot([avg_f, avg_f],[0,6000], label = 'fresh_mean')\n",
    "ax[1].plot([avg_r, avg_r],[0,6000], label = 'rotten_mean')\n",
    "ax[1].set_title('Lengths of All Reviews (by freshness)');\n",
    "ax[1].set_xlabel('Length (Words)');\n",
    "ax[1].set_ylabel('Count');\n",
    "ax[1].legend();\n",
    "fig.suptitle('Histograms of Review Lengths');"
   ]
  },
  {
   "cell_type": "markdown",
   "metadata": {},
   "source": [
    "Based on the histograms above, fresh and rotten reviews appear to have the similar length characteristics."
   ]
  },
  {
   "cell_type": "markdown",
   "metadata": {},
   "source": [
    "## Modeling\n",
    "I am planning on using three models:\n",
    "- Naive Bayes\n",
    "- Linear Model\n",
    "- SVM\n",
    "\n",
    "why these models?\n",
    "\n",
    "**Review Labeling:** There are two way to label the reviews with this dataset. \n",
    "1. Label the reviews based on the fresh column.\n",
    "2. Label the reivews based on the critic rating.\n",
    "\n",
    "I plan on doing the second option. This would be the normal application of this kind of modeling. A model would be trained on reviews where the critic gave a text review and a numerical or graded rating. Then the model would be used to classify ratings where the critics did not provide numerical or grading ratings.\n",
    "\n",
    "### Data Preparation\n",
    "- Extract features with CountVectorizer from `sklearn`.\n",
    "- Split rows into training and testing; 33% of data for testing."
   ]
  },
  {
   "cell_type": "code",
   "execution_count": 463,
   "metadata": {},
   "outputs": [],
   "source": [
    "m_data = data[['review_pp','grade','fresh','pos_neg']].dropna()\n",
    "m_data = m_data[(m_data['pos_neg'] == 'neg') | (m_data['pos_neg'] == 'pos')]"
   ]
  },
  {
   "cell_type": "code",
   "execution_count": 863,
   "metadata": {},
   "outputs": [],
   "source": [
    "from sklearn.model_selection import train_test_split\n",
    "from sklearn.feature_extraction.text import CountVectorizer\n",
    "\n",
    "X_train, X_test, y_train, y_test = train_test_split(m_data['review_pp'], \n",
    "                                                    m_data['pos_neg'], \n",
    "                                                    random_state=49,\n",
    "                                                    test_size = 0.33,\n",
    "                                                    shuffle = True)\n",
    "# vectorize reviews\n",
    "count_vec = CountVectorizer()\n",
    "training_data = count_vec.fit_transform(X_train)\n",
    "testing_data = count_vec.transform(X_test)\n",
    "\n",
    "#from sklearn.feature_extraction.text import TfidfTransformer\n",
    "#tfidf_transformer = TfidfTransformer()\n",
    "#X_train_tfidf = tfidf_transformer.fit_transform(training_data)\n",
    "#X_test_tfidf = tfidf_transformer.fit_transform(testing_data)"
   ]
  },
  {
   "cell_type": "code",
   "execution_count": 864,
   "metadata": {},
   "outputs": [
    {
     "data": {
      "text/plain": [
       "\"\\nvecs = list()\\n\\n# make dict for review vectorization\\ndictionary = dict()\\nfor w in all_words.most_common():\\n    dictionary[w[0]] = w[1]\\n    \\n# vectorize reviews\\nfor rev in list(data[data['review_pp'].notnull()].review_pp):\\n    vec = list()\\n    rev = rev.split(' ')\\n    if '' in rev:\\n        rev.remove('')\\n    for w in rev:\\n        vec.append(dictionary[w])\\n    vecs.append(vec)\\n\""
      ]
     },
     "execution_count": 864,
     "metadata": {},
     "output_type": "execute_result"
    }
   ],
   "source": [
    "'''\n",
    "vecs = list()\n",
    "\n",
    "# make dict for review vectorization\n",
    "dictionary = dict()\n",
    "for w in all_words.most_common():\n",
    "    dictionary[w[0]] = w[1]\n",
    "    \n",
    "# vectorize reviews\n",
    "for rev in list(data[data['review_pp'].notnull()].review_pp):\n",
    "    vec = list()\n",
    "    rev = rev.split(' ')\n",
    "    if '' in rev:\n",
    "        rev.remove('')\n",
    "    for w in rev:\n",
    "        vec.append(dictionary[w])\n",
    "    vecs.append(vec)\n",
    "'''"
   ]
  },
  {
   "cell_type": "markdown",
   "metadata": {},
   "source": [
    "### Model Training Pipeline\n"
   ]
  },
  {
   "cell_type": "code",
   "execution_count": 867,
   "metadata": {},
   "outputs": [
    {
     "name": "stdout",
     "output_type": "stream",
     "text": [
      "Trained and tested naive_bayes\n",
      "Trained and tested sgd\n",
      "Trained and tested logistic_regession\n"
     ]
    }
   ],
   "source": [
    "# import models\n",
    "import time\n",
    "from sklearn.naive_bayes import MultinomialNB\n",
    "from sklearn.linear_model import SGDClassifier, LogisticRegression\n",
    "from sklearn.svm import SVC\n",
    "\n",
    "# some containers\n",
    "models = dict()\n",
    "predictions = dict()\n",
    "t = dict()\n",
    "rand_state = 49\n",
    "\n",
    "# make models\n",
    "models['naive_bayes'] = MultinomialNB(alpha = 1)\n",
    "models['sgd'] = SGDClassifier(loss='hinge', penalty='l2', alpha=1e-3,\n",
    "                    random_state=rand_state, max_iter=7, tol=None)\n",
    "models['logistic_regession'] = LogisticRegression()\n",
    "\n",
    "# train and run models\n",
    "for model in models.keys():\n",
    "    t0 = time.time()\n",
    "    models[model].fit(training_data, y_train)\n",
    "    t1 = time.time()\n",
    "    predictions[model] = models[model].predict(testing_data)\n",
    "    t2 = time.time()\n",
    "    t[model] = {'train': t1-t0, 'test': t2-t1}\n",
    "    print('Trained and tested ' + model)"
   ]
  },
  {
   "cell_type": "code",
   "execution_count": 868,
   "metadata": {},
   "outputs": [
    {
     "name": "stdout",
     "output_type": "stream",
     "text": [
      "\n",
      "Naive_Bayes performance\n",
      "Accuracy score: 0.8094\n",
      "Precision score: 0.8089\n",
      "Recall score: 0.8094\n",
      "Training Time: 0.04 s; Testing time: 0.00 s\n",
      "\n",
      "Sgd performance\n",
      "Accuracy score: 0.7741\n",
      "Precision score: 0.7756\n",
      "Recall score: 0.7741\n",
      "Training Time: 0.02 s; Testing time: 0.00 s\n",
      "\n",
      "Logistic_Regession performance\n",
      "Accuracy score: 0.7947\n",
      "Precision score: 0.7938\n",
      "Recall score: 0.7947\n",
      "Training Time: 0.29 s; Testing time: 0.00 s\n"
     ]
    }
   ],
   "source": [
    "# import metrics\n",
    "from sklearn.metrics import accuracy_score, precision_score, recall_score, f1_score, confusion_matrix\n",
    "\n",
    "# calc metrics\n",
    "for m in models.keys():\n",
    "    pred = predictions[m]\n",
    "    print('\\n' + m.title() + ' performance')\n",
    "    print('Accuracy score: {:.4f}'. format(accuracy_score(y_test, pred)))\n",
    "    print('Precision score: {:.4f}'. format(precision_score(y_test, pred, average = 'weighted')))\n",
    "    print('Recall score: {:.4f}'. format(recall_score(y_test, pred, average = 'weighted')))\n",
    "    print('Training Time: {:.2f} s; Testing time: {:.2f} s'.format(t[m]['train'], t[m]['test']))"
   ]
  },
  {
   "cell_type": "code",
   "execution_count": 873,
   "metadata": {},
   "outputs": [
    {
     "data": {
      "image/png": "[encoded data removed]",
      "text/plain": [
       "<Figure size 720x504 with 2 Axes>"
      ]
     },
     "metadata": {},
     "output_type": "display_data"
    }
   ],
   "source": [
    "array = confusion_matrix(y_test, predictions['naive_bayes'])\n",
    "df_cm = pd.DataFrame(array, index = [i for i in ['pos','neg']],\n",
    "                  columns = [i for i in ['pos','neg']])\n",
    "plt.figure(figsize = (10,7))\n",
    "sns.heatmap(df_cm, annot=True);\n",
    "plt.ylabel('Predicted Class');\n",
    "plt.xlabel('Actual Class');\n",
    "plt.title('Heatmap Confusion Matrix of NB Model');"
   ]
  }
 ],
 "metadata": {
  "kernelspec": {
   "display_name": "Python 3",
   "language": "python",
   "name": "python3"
  },
  "language_info": {
   "codemirror_mode": {
    "name": "ipython",
    "version": 3
   },
   "file_extension": ".py",
   "mimetype": "text/x-python",
   "name": "python",
   "nbconvert_exporter": "python",
   "pygments_lexer": "ipython3",
   "version": "3.6.5"
  }
 },
 "nbformat": 4,
 "nbformat_minor": 2
}
