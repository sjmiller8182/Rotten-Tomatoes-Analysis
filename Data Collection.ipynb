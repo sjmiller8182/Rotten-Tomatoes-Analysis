{
 "cells": [
  {
   "cell_type": "code",
   "execution_count": 4,
   "metadata": {},
   "outputs": [],
   "source": [
    "# imports\n",
    "import glob\n",
    "import csv\n",
    "from datetime import datetime\n",
    "from sys import path\n",
    "path.append('../tomatopy')\n",
    "import tomatopy as rtp\n",
    "import scrape_util as scraper"
   ]
  },
  {
   "cell_type": "markdown",
   "metadata": {},
   "source": [
    "## Check basic operations with [Wikipedia](https://en.wikipedia.org/wiki/Main_Page) scraper\n",
    "The scraper is located in scrape_util.py\n",
    "- check crawl rate\n",
    "- check a single date"
   ]
  },
  {
   "cell_type": "code",
   "execution_count": null,
   "metadata": {},
   "outputs": [],
   "source": [
    "scraper.get_crawl_rate()"
   ]
  },
  {
   "cell_type": "code",
   "execution_count": null,
   "metadata": {},
   "outputs": [],
   "source": [
    "scraper.scrape_movie_names(1990)"
   ]
  },
  {
   "cell_type": "markdown",
   "metadata": {},
   "source": [
    "## Run Collection\n",
    "- Run from 1980 to current year\n",
    "- Use a set to only keep unique names\n",
    "- Update per year\n",
    "- Write names to a file (./names.txt)"
   ]
  },
  {
   "cell_type": "code",
   "execution_count": null,
   "metadata": {},
   "outputs": [],
   "source": [
    "movies = set()\n",
    "for year in range(1980, datetime.now().year + 1 ,1):\n",
    "    movies.update(scraper.scrape_movie_names(year))    "
   ]
  },
  {
   "cell_type": "code",
   "execution_count": null,
   "metadata": {},
   "outputs": [],
   "source": [
    "print('There are {} movies collected.'.format(len(movies)))"
   ]
  },
  {
   "cell_type": "code",
   "execution_count": null,
   "metadata": {},
   "outputs": [],
   "source": [
    "movies = list(movies)"
   ]
  },
  {
   "cell_type": "code",
   "execution_count": null,
   "metadata": {},
   "outputs": [],
   "source": [
    "movies[:10]"
   ]
  },
  {
   "cell_type": "code",
   "execution_count": null,
   "metadata": {},
   "outputs": [],
   "source": [
    "with open('names.txt', 'w+', encoding='utf8') as out:\n",
    "    for name in movies:\n",
    "        out.write(name + '\\n')"
   ]
  },
  {
   "cell_type": "markdown",
   "metadata": {},
   "source": [
    "## Look at the basics of TomatoPy\n",
    "Just use scrape_movie_info\n",
    "- Check the info output\n",
    "- Check the reviews output"
   ]
  },
  {
   "cell_type": "code",
   "execution_count": null,
   "metadata": {},
   "outputs": [],
   "source": [
    "x, y = rtp.scrape_movie_info('The Best Intentions')"
   ]
  },
  {
   "cell_type": "code",
   "execution_count": null,
   "metadata": {},
   "outputs": [],
   "source": [
    "x"
   ]
  },
  {
   "cell_type": "code",
   "execution_count": null,
   "metadata": {},
   "outputs": [],
   "source": [
    "y"
   ]
  },
  {
   "cell_type": "code",
   "execution_count": null,
   "metadata": {},
   "outputs": [],
   "source": [
    "x, y = rtp.scrape_movie_info('tarka the otter')"
   ]
  },
  {
   "cell_type": "code",
   "execution_count": null,
   "metadata": {},
   "outputs": [],
   "source": [
    "x"
   ]
  },
  {
   "cell_type": "markdown",
   "metadata": {},
   "source": [
    "## Run Rotten Tomatoes Data Collection"
   ]
  },
  {
   "cell_type": "code",
   "execution_count": null,
   "metadata": {},
   "outputs": [],
   "source": [
    "movies = ['']\n",
    "rtp.set_verbose_mode(True)\n",
    "\n",
    "rev_keys = ['reviews', 'rating', 'fresh', 'critic',\n",
    "                        'top_critic', 'publisher', 'date']\n",
    "info_keys = ['synopsis', 'rating', 'genre', 'director',\n",
    "                         'writer', 'theater_date', 'dvd_date', 'currency',\n",
    "                         'box_office', 'runtime', 'studio']\n",
    "\n",
    "if movies is None:\n",
    "        if 'names.txt' in glob.glob('*.txt'):\n",
    "            movies = list()\n",
    "            with open('names.txt', 'r', encoding='utf8') as names:\n",
    "                for line in names:\n",
    "                    movies.append(line.strip())\n",
    "        else:\n",
    "            raise Execption('No names have been scraped from wikipedia. Please scrape Names.')\n",
    "            \n",
    "with open('reviews.csv','w+', newline='\\n') as review_info:\n",
    "    with open('movie_info.csv','w+', newline='\\n') as movie_info:\n",
    "        # csv writing handlers\n",
    "        rev_writer = csv.writer(review_info)\n",
    "        info_writer = csv.writer(movie_info)\n",
    "        \n",
    "        # init containers     \n",
    "        info = list()\n",
    "        rev = list()\n",
    "        idx = 0\n",
    "\n",
    "        for name in movies:\n",
    "            # scrape\n",
    "            idx += 1\n",
    "            main_info, reviews = rtp.scrape_movie_info(name)\n",
    "            \n",
    "            if main_info is not None:\n",
    "                row = [str(idx)] \n",
    "                for key in info_keys:\n",
    "                    row.append(main_info[key])\n",
    "                info_writer.writerow(row)\n",
    "            \n",
    "            if reviews is not None:\n",
    "                # make row vectors for reviews\n",
    "                rows = list()\n",
    "                for key in rev_keys:\n",
    "                    rows.append(reviews[key])\n",
    "                for i in range(len(rows[0])):\n",
    "                    row = [str(idx)]\n",
    "                    for j in range(len(rows)):\n",
    "                        row.append(rows[j][i])\n",
    "                    rev_writer.writerow(row)\n",
    "                    "
   ]
  },
  {
   "cell_type": "code",
   "execution_count": 2,
   "metadata": {},
   "outputs": [],
   "source": [
    "main_info, reviews = rtp.scrape_movie_info('')"
   ]
  },
  {
   "cell_type": "code",
   "execution_count": null,
   "metadata": {},
   "outputs": [],
   "source": [
    "rtp.set_verbose_mode(True)"
   ]
  },
  {
   "cell_type": "code",
   "execution_count": 3,
   "metadata": {},
   "outputs": [],
   "source": [
    "main_info"
   ]
  },
  {
   "cell_type": "code",
   "execution_count": 10,
   "metadata": {},
   "outputs": [
    {
     "data": {
      "text/plain": [
       "True"
      ]
     },
     "execution_count": 10,
     "metadata": {},
     "output_type": "execute_result"
    }
   ],
   "source": [
    "'names.txt' in glob.glob('*.txt')"
   ]
  },
  {
   "cell_type": "code",
   "execution_count": 13,
   "metadata": {},
   "outputs": [],
   "source": [
    "movies = list()\n",
    "with open('names.txt', 'r', encoding='utf8') as names:\n",
    "    for line in names:\n",
    "        movies.append(line.strip())"
   ]
  },
  {
   "cell_type": "code",
   "execution_count": null,
   "metadata": {},
   "outputs": [],
   "source": []
  }
 ],
 "metadata": {
  "kernelspec": {
   "display_name": "Python 3",
   "language": "python",
   "name": "python3"
  },
  "language_info": {
   "codemirror_mode": {
    "name": "ipython",
    "version": 3
   },
   "file_extension": ".py",
   "mimetype": "text/x-python",
   "name": "python",
   "nbconvert_exporter": "python",
   "pygments_lexer": "ipython3",
   "version": "3.6.5"
  }
 },
 "nbformat": 4,
 "nbformat_minor": 2
}
